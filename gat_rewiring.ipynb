{
  "cells": [
    {
      "cell_type": "markdown",
      "source": [
        "# Dependencies"
      ],
      "metadata": {
        "id": "EPInxr1DCNWE"
      }
    },
    {
      "cell_type": "code",
      "execution_count": 1,
      "metadata": {
        "colab": {
          "base_uri": "https://localhost:8080/"
        },
        "id": "HUERN8TKOL7b",
        "outputId": "7852acbe-9d8b-47fa-efe9-260fb27e77f2"
      },
      "outputs": [
        {
          "output_type": "stream",
          "name": "stdout",
          "text": [
            "1.13.0+cu116\n"
          ]
        }
      ],
      "source": [
        "!python -c \"import torch; print(torch.__version__)\""
      ]
    },
    {
      "cell_type": "code",
      "execution_count": 2,
      "metadata": {
        "colab": {
          "base_uri": "https://localhost:8080/",
          "height": 1000
        },
        "id": "LIpZt6iCOU3Y",
        "outputId": "fce86c8d-c4c8-4176-d135-67e535f1223e"
      },
      "outputs": [
        {
          "output_type": "stream",
          "name": "stdout",
          "text": [
            "env: TORCH=1.13.0+cu116\n",
            "Looking in indexes: https://pypi.org/simple, https://us-python.pkg.dev/colab-wheels/public/simple/\n",
            "Looking in links: https://data.pyg.org/whl/torch-1.13.0+cu116.html\n",
            "Collecting torch-scatter\n",
            "  Downloading https://data.pyg.org/whl/torch-1.13.0%2Bcu116/torch_scatter-2.1.0%2Bpt113cu116-cp38-cp38-linux_x86_64.whl (9.4 MB)\n",
            "\u001b[K     |████████████████████████████████| 9.4 MB 43.2 MB/s \n",
            "\u001b[?25hInstalling collected packages: torch-scatter\n",
            "Successfully installed torch-scatter-2.1.0+pt113cu116\n",
            "Looking in indexes: https://pypi.org/simple, https://us-python.pkg.dev/colab-wheels/public/simple/\n",
            "Looking in links: https://data.pyg.org/whl/torch-1.13.0+cu116.html\n",
            "Collecting torch-sparse\n",
            "  Downloading https://data.pyg.org/whl/torch-1.13.0%2Bcu116/torch_sparse-0.6.16%2Bpt113cu116-cp38-cp38-linux_x86_64.whl (4.5 MB)\n",
            "\u001b[K     |████████████████████████████████| 4.5 MB 20.1 MB/s \n",
            "\u001b[?25hRequirement already satisfied: scipy in /usr/local/lib/python3.8/dist-packages (from torch-sparse) (1.7.3)\n",
            "Requirement already satisfied: numpy<1.23.0,>=1.16.5 in /usr/local/lib/python3.8/dist-packages (from scipy->torch-sparse) (1.21.6)\n",
            "Installing collected packages: torch-sparse\n",
            "Successfully installed torch-sparse-0.6.16+pt113cu116\n",
            "Looking in indexes: https://pypi.org/simple, https://us-python.pkg.dev/colab-wheels/public/simple/\n",
            "Collecting torch-geometric\n",
            "  Downloading torch_geometric-2.2.0.tar.gz (564 kB)\n",
            "\u001b[K     |████████████████████████████████| 564 kB 34.5 MB/s \n",
            "\u001b[?25hRequirement already satisfied: tqdm in /usr/local/lib/python3.8/dist-packages (from torch-geometric) (4.64.1)\n",
            "Requirement already satisfied: numpy in /usr/local/lib/python3.8/dist-packages (from torch-geometric) (1.21.6)\n",
            "Requirement already satisfied: scipy in /usr/local/lib/python3.8/dist-packages (from torch-geometric) (1.7.3)\n",
            "Requirement already satisfied: jinja2 in /usr/local/lib/python3.8/dist-packages (from torch-geometric) (2.11.3)\n",
            "Requirement already satisfied: requests in /usr/local/lib/python3.8/dist-packages (from torch-geometric) (2.23.0)\n",
            "Requirement already satisfied: pyparsing in /usr/local/lib/python3.8/dist-packages (from torch-geometric) (3.0.9)\n",
            "Requirement already satisfied: scikit-learn in /usr/local/lib/python3.8/dist-packages (from torch-geometric) (1.0.2)\n",
            "Collecting psutil>=5.8.0\n",
            "  Downloading psutil-5.9.4-cp36-abi3-manylinux_2_12_x86_64.manylinux2010_x86_64.manylinux_2_17_x86_64.manylinux2014_x86_64.whl (280 kB)\n",
            "\u001b[K     |████████████████████████████████| 280 kB 70.4 MB/s \n",
            "\u001b[?25hRequirement already satisfied: MarkupSafe>=0.23 in /usr/local/lib/python3.8/dist-packages (from jinja2->torch-geometric) (2.0.1)\n",
            "Requirement already satisfied: idna<3,>=2.5 in /usr/local/lib/python3.8/dist-packages (from requests->torch-geometric) (2.10)\n",
            "Requirement already satisfied: certifi>=2017.4.17 in /usr/local/lib/python3.8/dist-packages (from requests->torch-geometric) (2022.12.7)\n",
            "Requirement already satisfied: chardet<4,>=3.0.2 in /usr/local/lib/python3.8/dist-packages (from requests->torch-geometric) (3.0.4)\n",
            "Requirement already satisfied: urllib3!=1.25.0,!=1.25.1,<1.26,>=1.21.1 in /usr/local/lib/python3.8/dist-packages (from requests->torch-geometric) (1.24.3)\n",
            "Requirement already satisfied: joblib>=0.11 in /usr/local/lib/python3.8/dist-packages (from scikit-learn->torch-geometric) (1.2.0)\n",
            "Requirement already satisfied: threadpoolctl>=2.0.0 in /usr/local/lib/python3.8/dist-packages (from scikit-learn->torch-geometric) (3.1.0)\n",
            "Building wheels for collected packages: torch-geometric\n",
            "  Building wheel for torch-geometric (setup.py) ... \u001b[?25l\u001b[?25hdone\n",
            "  Created wheel for torch-geometric: filename=torch_geometric-2.2.0-py3-none-any.whl size=773302 sha256=0377687aeebf09324371248787722c4c1516722e23f19c928ac72c39807dd14b\n",
            "  Stored in directory: /root/.cache/pip/wheels/59/a3/20/198928106d3169865ae73afcbd3d3d1796cf6b429b55c65378\n",
            "Successfully built torch-geometric\n",
            "Installing collected packages: psutil, torch-geometric\n",
            "  Attempting uninstall: psutil\n",
            "    Found existing installation: psutil 5.4.8\n",
            "    Uninstalling psutil-5.4.8:\n",
            "      Successfully uninstalled psutil-5.4.8\n",
            "Successfully installed psutil-5.9.4 torch-geometric-2.2.0\n"
          ]
        },
        {
          "output_type": "display_data",
          "data": {
            "application/vnd.colab-display-data+json": {
              "pip_warning": {
                "packages": [
                  "psutil"
                ]
              }
            }
          },
          "metadata": {}
        },
        {
          "output_type": "stream",
          "name": "stdout",
          "text": [
            "Looking in indexes: https://pypi.org/simple, https://us-python.pkg.dev/colab-wheels/public/simple/\n",
            "Collecting ogb\n",
            "  Downloading ogb-1.3.5-py3-none-any.whl (78 kB)\n",
            "\u001b[K     |████████████████████████████████| 78 kB 6.2 MB/s \n",
            "\u001b[?25hRequirement already satisfied: torch>=1.6.0 in /usr/local/lib/python3.8/dist-packages (from ogb) (1.13.0+cu116)\n",
            "Requirement already satisfied: numpy>=1.16.0 in /usr/local/lib/python3.8/dist-packages (from ogb) (1.21.6)\n",
            "Requirement already satisfied: urllib3>=1.24.0 in /usr/local/lib/python3.8/dist-packages (from ogb) (1.24.3)\n",
            "Requirement already satisfied: tqdm>=4.29.0 in /usr/local/lib/python3.8/dist-packages (from ogb) (4.64.1)\n",
            "Requirement already satisfied: pandas>=0.24.0 in /usr/local/lib/python3.8/dist-packages (from ogb) (1.3.5)\n",
            "Requirement already satisfied: six>=1.12.0 in /usr/local/lib/python3.8/dist-packages (from ogb) (1.15.0)\n",
            "Collecting outdated>=0.2.0\n",
            "  Downloading outdated-0.2.2-py2.py3-none-any.whl (7.5 kB)\n",
            "Requirement already satisfied: scikit-learn>=0.20.0 in /usr/local/lib/python3.8/dist-packages (from ogb) (1.0.2)\n",
            "Requirement already satisfied: setuptools>=44 in /usr/local/lib/python3.8/dist-packages (from outdated>=0.2.0->ogb) (57.4.0)\n",
            "Requirement already satisfied: requests in /usr/local/lib/python3.8/dist-packages (from outdated>=0.2.0->ogb) (2.23.0)\n",
            "Collecting littleutils\n",
            "  Downloading littleutils-0.2.2.tar.gz (6.6 kB)\n",
            "Requirement already satisfied: python-dateutil>=2.7.3 in /usr/local/lib/python3.8/dist-packages (from pandas>=0.24.0->ogb) (2.8.2)\n",
            "Requirement already satisfied: pytz>=2017.3 in /usr/local/lib/python3.8/dist-packages (from pandas>=0.24.0->ogb) (2022.6)\n",
            "Requirement already satisfied: joblib>=0.11 in /usr/local/lib/python3.8/dist-packages (from scikit-learn>=0.20.0->ogb) (1.2.0)\n",
            "Requirement already satisfied: threadpoolctl>=2.0.0 in /usr/local/lib/python3.8/dist-packages (from scikit-learn>=0.20.0->ogb) (3.1.0)\n",
            "Requirement already satisfied: scipy>=1.1.0 in /usr/local/lib/python3.8/dist-packages (from scikit-learn>=0.20.0->ogb) (1.7.3)\n",
            "Requirement already satisfied: typing-extensions in /usr/local/lib/python3.8/dist-packages (from torch>=1.6.0->ogb) (4.4.0)\n",
            "Requirement already satisfied: idna<3,>=2.5 in /usr/local/lib/python3.8/dist-packages (from requests->outdated>=0.2.0->ogb) (2.10)\n",
            "Requirement already satisfied: certifi>=2017.4.17 in /usr/local/lib/python3.8/dist-packages (from requests->outdated>=0.2.0->ogb) (2022.12.7)\n",
            "Requirement already satisfied: chardet<4,>=3.0.2 in /usr/local/lib/python3.8/dist-packages (from requests->outdated>=0.2.0->ogb) (3.0.4)\n",
            "Building wheels for collected packages: littleutils\n",
            "  Building wheel for littleutils (setup.py) ... \u001b[?25l\u001b[?25hdone\n",
            "  Created wheel for littleutils: filename=littleutils-0.2.2-py3-none-any.whl size=7047 sha256=f2d5638f025a0b51d4861fed16dee6d0b8bbe654c4749c55ac75ffaf86c14836\n",
            "  Stored in directory: /root/.cache/pip/wheels/6a/33/c4/0ef84d7f5568c2823e3d63a6e08988852fb9e4bc822034870a\n",
            "Successfully built littleutils\n",
            "Installing collected packages: littleutils, outdated, ogb\n",
            "Successfully installed littleutils-0.2.2 ogb-1.3.5 outdated-0.2.2\n",
            "Looking in indexes: https://pypi.org/simple, https://us-python.pkg.dev/colab-wheels/public/simple/\n",
            "Requirement already satisfied: networkx in /usr/local/lib/python3.8/dist-packages (2.8.8)\n"
          ]
        }
      ],
      "source": [
        "%env TORCH=1.13.0+cu116\n",
        "!pip install torch-scatter -f https://data.pyg.org/whl/torch-${TORCH}.html\n",
        "!pip install torch-sparse -f https://data.pyg.org/whl/torch-${TORCH}.html\n",
        "!pip install torch-geometric\n",
        "!pip install ogb\n",
        "!pip install networkx"
      ]
    },
    {
      "cell_type": "code",
      "execution_count": 3,
      "metadata": {
        "id": "YS4JID2AP0YH"
      },
      "outputs": [],
      "source": [
        "import os\n",
        "import numpy as np\n",
        "import random \n",
        "from tqdm import tqdm\n",
        "import time\n",
        "\n",
        "import torch\n",
        "import torch.nn as nn\n",
        "import torch.nn.functional as F\n",
        "import torch.optim as optim\n",
        "\n",
        "from torch_geometric.loader import DataLoader, NeighborLoader\n",
        "from torch_geometric.data.data import Data \n",
        "import torch_geometric.utils as U\n",
        "from torch_geometric.datasets import TUDataset\n",
        "import torch_geometric.transforms as T\n",
        "from torch_geometric.nn import MessagePassing, GATConv, global_mean_pool\n",
        "from torch_geometric.utils.convert import from_scipy_sparse_matrix, from_networkx\n",
        "\n",
        "from ogb.graphproppred import Evaluator, PygGraphPropPredDataset\n",
        "from ogb.graphproppred.mol_encoder import AtomEncoder,BondEncoder\n",
        "\n",
        "import networkx as nx"
      ]
    },
    {
      "cell_type": "markdown",
      "source": [
        "# Data utilities"
      ],
      "metadata": {
        "id": "l3nPq4OfCnLr"
      }
    },
    {
      "cell_type": "code",
      "source": [
        "def get_dataset(dataset_name='MUTAG'):\n",
        "    \"\"\"\n",
        "    Returns lists of adjacency matrices, node features, and graph labels for a \n",
        "    dataset in TUDataset.\n",
        "    \"\"\"\n",
        "    raw_dataset = TUDataset(root='data/TUDataset', name=dataset_name)\n",
        "    A = []\n",
        "    X = []\n",
        "    Y = []\n",
        "    for graph in raw_dataset:\n",
        "        adj_matrix = U.to_dense_adj(graph.edge_index).squeeze(0)\n",
        "        A.append(adj_matrix)\n",
        "        X.append(graph.x)\n",
        "        Y.append(graph.y)\n",
        "\n",
        "    return A, X, Y\n",
        "\n",
        "def num_cayley_nodes(n):\n",
        "    \"\"\"\n",
        "    Calculate number of nodes in a Cayley graph generated by the symmetric group \n",
        "    S_n using eq. (10) in https://arxiv.org/pdf/2210.02997.pdf.\n",
        "    \"\"\"\n",
        "    prod = 1\n",
        "    for p in range(2, n+1):\n",
        "        prime = True\n",
        "        for i in range(2, p):\n",
        "            if (p % i) == 0:\n",
        "                prime = False\n",
        "                break\n",
        "        \n",
        "        if prime and (n % p) == 0:\n",
        "            prod *= (1-1/(p**2))\n",
        "\n",
        "    return n**3 * prod\n",
        "\n",
        "\n",
        "def graph_mini_batch(adj_matrix_list,  x_list,  y_list, batch_size=32):\n",
        "    \"\"\"\n",
        "    Iterator which outputs:\n",
        "        A_B: Block-diag adjacency matrix for subgraphs in batch B\n",
        "        FA_B: Block-diag adjacency matrix for fully-connected rewirings of \n",
        "              subgraphs in batch B\n",
        "        cayley_B: Block-diag adjacency matrix for expander graph rewirings of \n",
        "                  subgraphs in batch B\n",
        "        X_B: Batched node features list\n",
        "        Y_B: Batched node labels list\n",
        "        Batch: Vector that maps each node to its repsective graph in batch B\n",
        "    \"\"\"\n",
        "    n = len(x_list)\n",
        "\n",
        "    FA_adj_matrix_list = [\n",
        "        torch.ones((len(adj), len(adj))) for adj in adj_matrix_list\n",
        "    ]\n",
        "\n",
        "    num_batches = n // batch_size + 1\n",
        "    for i in range(num_batches):\n",
        "        start = batch_size * i\n",
        "        end = min(batch_size * (i+1), n)\n",
        "\n",
        "        A_B = torch.block_diag(*adj_matrix_list[start:end])\n",
        "        X_B = torch.cat(x_list[start:end], dim=0)\n",
        "        Y_B = torch.cat(y_list[start:end], dim=0)\n",
        "        batch_lists = [\n",
        "            torch.LongTensor([j for k in range(len(g))]) for j, g in \n",
        "            enumerate(x_list[start:end])\n",
        "        ]\n",
        "        Batch = torch.cat(batch_lists, dim=-1)\n",
        "\n",
        "        #Fully-connected\n",
        "        FA_B = torch.block_diag(*FA_adj_matrix_list[start:end])\n",
        "\n",
        "        #Expander\n",
        "        cayley_adj_matrix_list = []\n",
        "        for g in x_list[start:end]:\n",
        "            l = len(g)\n",
        "\n",
        "            n_opt = 1\n",
        "            n_cayley = 2\n",
        "            while n_cayley < l:\n",
        "                n_opt += 1\n",
        "                n_cayley = num_cayley_nodes(n_opt)\n",
        "\n",
        "            # For the MUTAG and ENZYNES datasets, the optimal Cayley graph sizes\n",
        "            # are either 3, 4, or 5\n",
        "            if n_opt == 3:\n",
        "                cayley_adj_matrix_list.append(\n",
        "                    torch.tensor(np.load('cayley_3.npy'))[:l , :l])\n",
        "            elif n_opt == 4:\n",
        "                cayley_adj_matrix_list.append(\n",
        "                    torch.tensor(np.load('cayley_4.npy'))[:l , :l])\n",
        "            elif n_opt == 5:\n",
        "                cayley_adj_matrix_list.append(\n",
        "                    torch.tensor(np.load('cayley_5.npy'))[:l , :l])\n",
        "\n",
        "        cayley_A_B = torch.block_diag(*cayley_adj_matrix_list)\n",
        "    \n",
        "        yield A_B, FA_B, cayley_A_B, X_B, Y_B, Batch\n"
      ],
      "metadata": {
        "id": "f7oWKeDUCrF6"
      },
      "execution_count": 4,
      "outputs": []
    },
    {
      "cell_type": "markdown",
      "source": [
        "# GAT rewirings"
      ],
      "metadata": {
        "id": "bH8k75WsjL6N"
      }
    },
    {
      "cell_type": "code",
      "source": [
        "class GAT(nn.Module):\n",
        "    def __init__(self, input_dim, hidden_dim, output_dim, n_layers, dropout=0.5):\n",
        "        super(GAT, self).__init__()\n",
        "        \"\"\"\n",
        "        Args:\n",
        "            input_dim: input feaure dimension\n",
        "            hidden_dim: hidden feature dimension\n",
        "            output_dim: output dimensions\n",
        "            n_layers: number of layers\n",
        "            dropout: dropout_ratio\n",
        "        \"\"\"\n",
        "        self.input_dim = input_dim\n",
        "        self.hidden_dim = hidden_dim\n",
        "        self.n_layers = n_layers\n",
        "        self.dropout = dropout\n",
        "        self.device = 'cuda' if torch.cuda.is_available() else 'cpu'\n",
        "\n",
        "        self.conv_layers = nn.ModuleList([GATConv(input_dim, hidden_dim)])\n",
        "        for i in range(1,n_layers):\n",
        "            self.conv_layers.append(GATConv(hidden_dim, hidden_dim))\n",
        "\n",
        "        self.linear = nn.Linear(hidden_dim, output_dim)\n",
        "\n",
        "    def forward(self, x, adj, FA_adj, cayley_adj, batch) -> torch.Tensor:\n",
        "        edge_index = U.dense_to_sparse(adj)[0].to(self.device)\n",
        "    \n",
        "        for i in range(self.n_layers):\n",
        "            x = self.conv_layers[i](x, edge_index)\n",
        "         \n",
        "            if i < self.n_layers - 1:\n",
        "                x = F.relu(x) #Remove ReLU for the last layer\n",
        "\n",
        "            x = F.dropout(x, p=self.dropout, training = self.training)\n",
        "\n",
        "        x = global_mean_pool(x, batch)\n",
        "        x = self.linear(x)\n",
        "        return x"
      ],
      "metadata": {
        "id": "QLoXOUI4zhZE"
      },
      "execution_count": 5,
      "outputs": []
    },
    {
      "cell_type": "code",
      "source": [
        "class GAT_FA(GAT):\n",
        "    def forward(self, x, adj, FA_adj, cayley_adj, batch) -> torch.Tensor:\n",
        "        edge_index = U.dense_to_sparse(adj)[0].to(self.device)\n",
        "        FA_edge_index = U.dense_to_sparse(FA_adj)[0].to(self.device)\n",
        "\n",
        "        for i in range(self.n_layers):\n",
        "            if i < self.n_layers - 1:\n",
        "                x = self.conv_layers[i](x, edge_index)\n",
        "            else:\n",
        "                x = self.conv_layers[i](x, FA_edge_index)\n",
        "        \n",
        "            if i < self.n_layers - 1:\n",
        "                x = F.relu(x) #Remove ReLU for the last layer\n",
        "\n",
        "            x = F.dropout(x, p=self.dropout, training = self.training)\n",
        "\n",
        "        x = global_mean_pool(x, batch)\n",
        "        x = self.linear(x)\n",
        "        return x"
      ],
      "metadata": {
        "id": "O2pyiQRoJB2B"
      },
      "execution_count": 6,
      "outputs": []
    },
    {
      "cell_type": "code",
      "source": [
        "class GAT_AllFA(GAT):\n",
        "    def forward(self, x, adj, FA_adj, cayley_adj, batch) -> torch.Tensor:\n",
        "        FA_edge_index = U.dense_to_sparse(FA_adj)[0].to(self.device)\n",
        "\n",
        "        for i in range(self.n_layers):\n",
        "            x = self.conv_layers[i](x, FA_edge_index)\n",
        "        \n",
        "            if i < self.n_layers - 1:\n",
        "                x = F.relu(x) #Remove ReLU for the last layer\n",
        "\n",
        "            x = F.dropout(x, p=self.dropout, training = self.training)\n",
        "\n",
        "        x = global_mean_pool(x, batch)\n",
        "        x = self.linear(x)\n",
        "        return x\n",
        "       "
      ],
      "metadata": {
        "id": "Rk_FEL6jAi9J"
      },
      "execution_count": 7,
      "outputs": []
    },
    {
      "cell_type": "code",
      "source": [
        "class GAT_Expander(GAT):\n",
        "   def forward(self, x, adj, FA_adj, cayley_adj, batch) -> torch.Tensor:\n",
        "        edge_index = U.dense_to_sparse(adj)[0].to(self.device)\n",
        "        expander_edge_index = U.dense_to_sparse(cayley_adj)[0].to(self.device)\n",
        "\n",
        "        for i in range(self.n_layers):\n",
        "            if i % 2 == 0:\n",
        "                x = self.conv_layers[i](x, edge_index)\n",
        "            else:\n",
        "                x = self.conv_layers[i](x, expander_edge_index)\n",
        "\n",
        "            if i < self.n_layers - 1:\n",
        "              x = F.relu(x) #Remove ReLU for the last layer\n",
        "\n",
        "            x = F.dropout(x, p=self.dropout, training = self.training)\n",
        "\n",
        "        x = global_mean_pool(x, batch)\n",
        "        x = self.linear(x)\n",
        "        return x"
      ],
      "metadata": {
        "id": "zFQt9Nv-dsNv"
      },
      "execution_count": 8,
      "outputs": []
    },
    {
      "cell_type": "code",
      "source": [
        "class GAT_Virtual(GAT):\n",
        "    def __init__(self, input_dim, hidden_dim, output_dim, n_layers, dropout=0.5):\n",
        "        super().__init__(input_dim, hidden_dim, output_dim, n_layers, dropout)\n",
        "\n",
        "        # Set the initial virtual node embedding to 0\n",
        "        self.virtualnode_embedding = torch.nn.Embedding(1, hidden_dim)\n",
        "        torch.nn.init.constant_(self.virtualnode_embedding.weight.data, 0)\n",
        "\n",
        "        # List of MLPs to transform virtual node at every layer\n",
        "        self.mlp_virtualnode_list = torch.nn.ModuleList()\n",
        "        for layer in range(n_layers - 1):\n",
        "            self.mlp_virtualnode_list.append(\n",
        "                torch.nn.Sequential(torch.nn.Linear(hidden_dim, 2*hidden_dim), \\\n",
        "                torch.nn.ReLU(), torch.nn.Linear(2*hidden_dim, hidden_dim), \\\n",
        "                torch.nn.ReLU()))\n",
        "                \n",
        "\n",
        "    def forward(self, x, adj, FA_adj, cayley_adj, batch) -> torch.Tensor:\n",
        "        edge_index = U.dense_to_sparse(adj)[0].to(self.device)\n",
        "\n",
        "        virtualnode_embedding = self.virtualnode_embedding(\n",
        "            torch.zeros(batch[-1].item()+1).to(edge_index.dtype).to(self.device))\n",
        "\n",
        "        for i in range(self.n_layers):\n",
        "            if i > 0:\n",
        "                x = x + virtualnode_embedding[batch]\n",
        "\n",
        "            x = self.conv_layers[i](x, edge_index)\n",
        "       \n",
        "            if i < self.n_layers - 1:\n",
        "                x = F.relu(x) #Remove ReLU for the last layer\n",
        "\n",
        "            x = F.dropout(x, p=self.dropout, training = self.training)\n",
        "\n",
        "            if i < self.n_layers - 1:\n",
        "                # add message from graph nodes to virtual nodes\n",
        "                virtualnode_embedding_temp = global_mean_pool(x, batch) + \\\n",
        "                                             virtualnode_embedding\n",
        "                # transform virtual nodes using MLP\n",
        "                virtualnode_embedding = F.dropout(\n",
        "                    self.mlp_virtualnode_list[i](\n",
        "                        virtualnode_embedding_temp),self.dropout,training=self.training)\n",
        "\n",
        "        x = global_mean_pool(x, batch)\n",
        "        x = self.linear(x)\n",
        "        return x, att_weight_list"
      ],
      "metadata": {
        "id": "fEUIzWQKeKiK"
      },
      "execution_count": 9,
      "outputs": []
    },
    {
      "cell_type": "markdown",
      "source": [
        "# Training and evaluation setup"
      ],
      "metadata": {
        "id": "8D9BqR1zIP55"
      }
    },
    {
      "cell_type": "code",
      "execution_count": 19,
      "metadata": {
        "id": "rw0HfJBDiDlW"
      },
      "outputs": [],
      "source": [
        "def train(A, X, Y, batch_size, model, optimizer, criterion, device):\n",
        "    model.train()\n",
        "\n",
        "    losses = []\n",
        "    correct = 0\n",
        "    total_num = 0\n",
        "    for adj, FA_adj, cayley_adj, x, y, batch in graph_mini_batch(A, X, Y, batch_size):\n",
        "        adj = adj.to(device)\n",
        "        FA_adj = FA_adj.to(device)\n",
        "        cayley_adj = cayley_adj.to(device)\n",
        "        x = x.to(device)\n",
        "        y = y.to(device)\n",
        "        batch=batch.to(device)\n",
        "\n",
        "        optimizer.zero_grad()\n",
        "\n",
        "        pred = model(x, adj, FA_adj, cayley_adj, batch)\n",
        "\n",
        "        loss = criterion(pred, y)\n",
        "        losses.append(loss.item())\n",
        "\n",
        "        correct += (pred.argmax(dim=-1) == y).sum()\n",
        "        total_num += len(y)\n",
        "        \n",
        "        loss.backward()\n",
        "        optimizer.step()\n",
        "\n",
        "    return np.mean(losses), correct/total_num \n",
        "\n",
        "def eval(A, X, Y, batch_size, model, device):\n",
        "    model.eval()\n",
        "   \n",
        "    correct = 0\n",
        "    total_num = 0\n",
        "    for adj, FA_adj, cayley_adj, x, y, batch in graph_mini_batch(A, X, Y, batch_size):\n",
        "        adj = adj.to(device)\n",
        "        FA_adj = FA_adj.to(device)\n",
        "        cayley_adj = cayley_adj.to(device)\n",
        "        x = x.to(device)\n",
        "        y = y.to(device)\n",
        "        batch=batch.to(device)\n",
        "       \n",
        "        pred = model(x, adj, FA_adj, cayley_adj, batch)\n",
        "\n",
        "        correct += (pred.argmax(dim=-1) == y).sum()\n",
        "        total_num += len(y)\n",
        "\n",
        "    return correct/total_num \n"
      ]
    },
    {
      "cell_type": "code",
      "source": [
        "class EarlyStopper:\n",
        "    def __init__(self, patience):\n",
        "        self.patience = patience\n",
        "        self.counter = 0\n",
        "        self.prev_valid_score = 0\n",
        "        self.best_model = None\n",
        "\n",
        "    def early_stop(self, valid_score):\n",
        "        if valid_score >= self.prev_valid_score:\n",
        "            self.counter = 0\n",
        "        else:\n",
        "            self.counter += 1\n",
        "            if self.counter == self.patience:\n",
        "                return True\n",
        "        self.prev_valid_score = valid_score\n",
        "        return False"
      ],
      "metadata": {
        "id": "tjlaijrJqS88"
      },
      "execution_count": 11,
      "outputs": []
    },
    {
      "cell_type": "code",
      "execution_count": 12,
      "metadata": {
        "id": "Pz-UwLe6re5k"
      },
      "outputs": [],
      "source": [
        "def train_model(A_train,X_train,Y_train,A_test,X_test,Y_test,params,verbose):\n",
        "    device = 'cuda' if torch.cuda.is_available() else 'cpu'\n",
        "\n",
        "    model = params['model'](params['input_dim'], \n",
        "                                params['hidden_dim'], \n",
        "                                params['output_dim'], \n",
        "                                params['n_layers'],\n",
        "                                params['dropout']).to(device)\n",
        "    \n",
        "    optimizer = optim.Adam(model.parameters(), \n",
        "                           lr=params['lr'], \n",
        "                           weight_decay=params['weight_decay'])\n",
        "    \n",
        "    criterion = nn.CrossEntropyLoss() \n",
        "\n",
        "    early_stopper = EarlyStopper(params['max_patience'])\n",
        "\n",
        "    train_losses = []\n",
        "    train_scores = []\n",
        "    test_scores = []\n",
        "\n",
        "    for epoch in tqdm(range(1, params['epochs']+1)):\n",
        "        train_loss, train_acc = train(A_train,\n",
        "                                      X_train, \n",
        "                                      Y_train, \n",
        "                                      params['batch_size'], \n",
        "                                      model, \n",
        "                                      optimizer, \n",
        "                                      criterion, \n",
        "                                      device)\n",
        "        test_acc = eval(A_test, \n",
        "                        X_test, \n",
        "                        Y_test, \n",
        "                        params['batch_size'], \n",
        "                        model, \n",
        "                        device).item()\n",
        "       \n",
        "        epoch_len = len(str(params['epochs']))\n",
        "\n",
        "        print_msg = (f'[{epoch:>{epoch_len}}/{params[\"epochs\"]:>{epoch_len}}] ' +\n",
        "                        f'loss: {train_loss:.5f} ' +\n",
        "                        f'train acc: {train_acc:.5f} ' +\n",
        "                        f'test acc: {test_acc:.5f} '\n",
        "                        )\n",
        "        if verbose:\n",
        "            print(print_msg)\n",
        "\n",
        "        train_losses.append(train_loss)\n",
        "        train_scores.append(train_acc.item())\n",
        "        test_scores.append(test_acc)\n",
        "\n",
        "        if early_stopper.early_stop(train_acc):   \n",
        "            print('Stopped early at epoch {}.'.format(epoch))          \n",
        "            break\n",
        "\n",
        "    best_epoch = np.argmax(train_scores)\n",
        "    print('Best train acc: {}'.format(train_scores[best_epoch]), \n",
        "          'Test acc: {}'.format(test_scores[best_epoch]))\n",
        "    return train_scores[best_epoch], test_scores[best_epoch]\n"
      ]
    },
    {
      "cell_type": "code",
      "source": [
        "def cross_val(A, X, Y, params, verbose=False):\n",
        "    \"\"\"\n",
        "    10-fold cross-validation\n",
        "    \"\"\"\n",
        "    group_size = len(A)//10+1\n",
        "\n",
        "    train_accs = []\n",
        "    test_accs = []\n",
        "    for i in range(0, len(A), group_size):\n",
        "        print('Run {}/10...'.format(i//group_size + 1))\n",
        "\n",
        "        A_test = A[i: i+group_size]\n",
        "        X_test = X[i: i+group_size]\n",
        "        Y_test = Y[i: i+group_size]\n",
        "        A_train = A[:i] + A[i+group_size:]\n",
        "        X_train = X[:i] + X[i+group_size:]\n",
        "        Y_train = Y[:i] + Y[i+group_size:]\n",
        "\n",
        "        train_acc, test_acc = train_model(A_train, \n",
        "                                          X_train, \n",
        "                                          Y_train, \n",
        "                                          A_test, \n",
        "                                          X_test, \n",
        "                                          Y_test, \n",
        "                                          params, \n",
        "                                          verbose)\n",
        "        train_accs.append(train_acc)\n",
        "        test_accs.append(test_acc)\n",
        "    print('Train accuracy:', np.mean(train_accs), '+- ', np.std(train_accs))\n",
        "    print('Test accuracy:', np.mean(test_accs), '+- ', np.std(test_accs))"
      ],
      "metadata": {
        "id": "PhE__u1kKjuZ"
      },
      "execution_count": 13,
      "outputs": []
    },
    {
      "cell_type": "markdown",
      "source": [
        "# Experiments"
      ],
      "metadata": {
        "id": "uWW1m7d3KDzr"
      }
    },
    {
      "cell_type": "code",
      "source": [
        "torch.manual_seed(42) "
      ],
      "metadata": {
        "colab": {
          "base_uri": "https://localhost:8080/"
        },
        "id": "9WbRejYo6Y80",
        "outputId": "c843ac3e-4cb6-410c-ad94-a9891ed5c492"
      },
      "execution_count": 14,
      "outputs": [
        {
          "output_type": "execute_result",
          "data": {
            "text/plain": [
              "<torch._C.Generator at 0x7fa2bde8f490>"
            ]
          },
          "metadata": {},
          "execution_count": 14
        }
      ]
    },
    {
      "cell_type": "markdown",
      "source": [
        "## MUTAG"
      ],
      "metadata": {
        "id": "0YGq0LUDHc10"
      }
    },
    {
      "cell_type": "code",
      "source": [
        "A, X, Y = get_dataset(dataset_name='MUTAG')"
      ],
      "metadata": {
        "colab": {
          "base_uri": "https://localhost:8080/"
        },
        "id": "AOWjeE3sNO7P",
        "outputId": "3014f5f7-a5ea-41cb-ba0f-e2483a67eb7a"
      },
      "execution_count": 34,
      "outputs": [
        {
          "output_type": "stream",
          "name": "stderr",
          "text": [
            "Downloading https://www.chrsmrrs.com/graphkerneldatasets/MUTAG.zip\n",
            "Extracting data/TUDataset/MUTAG/MUTAG.zip\n",
            "Processing...\n",
            "Done!\n"
          ]
        }
      ]
    },
    {
      "cell_type": "code",
      "source": [
        "# Shuffle before cross-val\n",
        "ds = list(zip(A, X, Y))\n",
        "random.shuffle(ds)\n",
        "A, X, Y = zip(*ds)"
      ],
      "metadata": {
        "id": "klOW06JOOH_e"
      },
      "execution_count": 35,
      "outputs": []
    },
    {
      "cell_type": "markdown",
      "source": [
        "### GAT"
      ],
      "metadata": {
        "id": "gaAZnZQh4Obl"
      }
    },
    {
      "cell_type": "code",
      "source": [
        "params = {\n",
        "    'input_dim': 7,\n",
        "    'hidden_dim': 64,\n",
        "    'output_dim': 2,\n",
        "    'n_layers': 4,\n",
        "    'epochs': 500,\n",
        "    'model':GAT,\n",
        "    'lr': 0.001,\n",
        "    'weight_decay': 0,\n",
        "    'max_patience': 5,\n",
        "    'dropout': 0.3,\n",
        "    'batch_size': 32\n",
        "}\n",
        "\n",
        "cross_val(A, X, Y, params, verbose=False)"
      ],
      "metadata": {
        "colab": {
          "base_uri": "https://localhost:8080/"
        },
        "id": "m75fkbk2j9pF",
        "outputId": "ea8727e0-deeb-4170-cf49-6b6cbc80a15c"
      },
      "execution_count": null,
      "outputs": [
        {
          "output_type": "stream",
          "name": "stdout",
          "text": [
            "Run 1/10...\n"
          ]
        },
        {
          "output_type": "stream",
          "name": "stderr",
          "text": [
            "100%|██████████| 500/500 [01:37<00:00,  5.14it/s]\n"
          ]
        },
        {
          "output_type": "stream",
          "name": "stdout",
          "text": [
            "Best train acc: 0.88165682554245 Test acc: 0.6842105388641357\n",
            "Run 2/10...\n"
          ]
        },
        {
          "output_type": "stream",
          "name": "stderr",
          "text": [
            "100%|██████████| 500/500 [01:35<00:00,  5.22it/s]\n"
          ]
        },
        {
          "output_type": "stream",
          "name": "stdout",
          "text": [
            "Best train acc: 0.8520710468292236 Test acc: 0.6842105388641357\n",
            "Run 3/10...\n"
          ]
        },
        {
          "output_type": "stream",
          "name": "stderr",
          "text": [
            "100%|██████████| 500/500 [01:35<00:00,  5.23it/s]\n"
          ]
        },
        {
          "output_type": "stream",
          "name": "stdout",
          "text": [
            "Best train acc: 0.8934911489486694 Test acc: 0.6315789222717285\n",
            "Run 4/10...\n"
          ]
        },
        {
          "output_type": "stream",
          "name": "stderr",
          "text": [
            "100%|██████████| 500/500 [01:36<00:00,  5.18it/s]\n"
          ]
        },
        {
          "output_type": "stream",
          "name": "stdout",
          "text": [
            "Best train acc: 0.8875739574432373 Test acc: 0.7894737124443054\n",
            "Run 5/10...\n"
          ]
        },
        {
          "output_type": "stream",
          "name": "stderr",
          "text": [
            "100%|██████████| 500/500 [01:35<00:00,  5.23it/s]\n"
          ]
        },
        {
          "output_type": "stream",
          "name": "stdout",
          "text": [
            "Best train acc: 0.8757396340370178 Test acc: 0.7368420958518982\n",
            "Run 6/10...\n"
          ]
        },
        {
          "output_type": "stream",
          "name": "stderr",
          "text": [
            "100%|██████████| 500/500 [01:35<00:00,  5.23it/s]\n"
          ]
        },
        {
          "output_type": "stream",
          "name": "stdout",
          "text": [
            "Best train acc: 0.8520710468292236 Test acc: 0.7894737124443054\n",
            "Run 7/10...\n"
          ]
        },
        {
          "output_type": "stream",
          "name": "stderr",
          "text": [
            "100%|██████████| 500/500 [01:36<00:00,  5.19it/s]\n"
          ]
        },
        {
          "output_type": "stream",
          "name": "stdout",
          "text": [
            "Best train acc: 0.8757396340370178 Test acc: 0.8947368264198303\n",
            "Run 8/10...\n"
          ]
        },
        {
          "output_type": "stream",
          "name": "stderr",
          "text": [
            "100%|██████████| 500/500 [01:35<00:00,  5.24it/s]\n"
          ]
        },
        {
          "output_type": "stream",
          "name": "stdout",
          "text": [
            "Best train acc: 0.8757396340370178 Test acc: 0.8421052694320679\n",
            "Run 9/10...\n"
          ]
        },
        {
          "output_type": "stream",
          "name": "stderr",
          "text": [
            "100%|██████████| 500/500 [01:36<00:00,  5.17it/s]\n"
          ]
        },
        {
          "output_type": "stream",
          "name": "stdout",
          "text": [
            "Best train acc: 0.8757396340370178 Test acc: 0.6842105388641357\n",
            "Run 10/10...\n"
          ]
        },
        {
          "output_type": "stream",
          "name": "stderr",
          "text": [
            "100%|██████████| 500/500 [01:35<00:00,  5.22it/s]\n"
          ]
        },
        {
          "output_type": "stream",
          "name": "stdout",
          "text": [
            "Best train acc: 0.859649121761322 Test acc: 0.9411764740943909\n",
            "Train accuracy: 0.8729471683502197 +-  0.013384732449527443\n",
            "Test accuracy: 0.7678018629550933 +-  0.09649316048792862\n"
          ]
        }
      ]
    },
    {
      "cell_type": "markdown",
      "source": [
        "### +FA"
      ],
      "metadata": {
        "id": "iSSl_yOy4Qgi"
      }
    },
    {
      "cell_type": "code",
      "source": [
        "params = {\n",
        "    'input_dim': 7,\n",
        "    'hidden_dim': 64,\n",
        "    'output_dim': 2,\n",
        "    'n_layers': 4,\n",
        "    'epochs': 500,\n",
        "    'model':GAT_FA,\n",
        "    'lr': 0.001,\n",
        "    'weight_decay': 0,\n",
        "    'max_patience': 5,\n",
        "    'dropout': 0.3,\n",
        "    'batch_size': 32\n",
        "}\n",
        "\n",
        "cross_val(A, X, Y, params, verbose=False)"
      ],
      "metadata": {
        "colab": {
          "base_uri": "https://localhost:8080/"
        },
        "id": "to-yVDs-tBHM",
        "outputId": "7d9a1dbe-7445-4ebe-8fa6-ee097281c0a3"
      },
      "execution_count": null,
      "outputs": [
        {
          "output_type": "stream",
          "name": "stdout",
          "text": [
            "Run 1/10...\n"
          ]
        },
        {
          "output_type": "stream",
          "name": "stderr",
          "text": [
            "100%|██████████| 500/500 [01:36<00:00,  5.17it/s]\n"
          ]
        },
        {
          "output_type": "stream",
          "name": "stdout",
          "text": [
            "Best train acc: 0.8994082808494568 Test acc: 0.7368420958518982\n",
            "Run 2/10...\n"
          ]
        },
        {
          "output_type": "stream",
          "name": "stderr",
          "text": [
            "100%|██████████| 500/500 [01:37<00:00,  5.15it/s]\n"
          ]
        },
        {
          "output_type": "stream",
          "name": "stdout",
          "text": [
            "Best train acc: 0.88165682554245 Test acc: 0.8421052694320679\n",
            "Run 3/10...\n"
          ]
        },
        {
          "output_type": "stream",
          "name": "stderr",
          "text": [
            "100%|██████████| 500/500 [01:36<00:00,  5.18it/s]\n"
          ]
        },
        {
          "output_type": "stream",
          "name": "stdout",
          "text": [
            "Best train acc: 0.9112426042556763 Test acc: 0.6842105388641357\n",
            "Run 4/10...\n"
          ]
        },
        {
          "output_type": "stream",
          "name": "stderr",
          "text": [
            "100%|██████████| 500/500 [01:37<00:00,  5.15it/s]\n"
          ]
        },
        {
          "output_type": "stream",
          "name": "stdout",
          "text": [
            "Best train acc: 0.9053254723548889 Test acc: 0.7368420958518982\n",
            "Run 5/10...\n"
          ]
        },
        {
          "output_type": "stream",
          "name": "stderr",
          "text": [
            "100%|██████████| 500/500 [01:36<00:00,  5.17it/s]\n"
          ]
        },
        {
          "output_type": "stream",
          "name": "stdout",
          "text": [
            "Best train acc: 0.8994082808494568 Test acc: 0.7368420958518982\n",
            "Run 6/10...\n"
          ]
        },
        {
          "output_type": "stream",
          "name": "stderr",
          "text": [
            "100%|██████████| 500/500 [01:36<00:00,  5.20it/s]\n"
          ]
        },
        {
          "output_type": "stream",
          "name": "stdout",
          "text": [
            "Best train acc: 0.8994082808494568 Test acc: 0.7368420958518982\n",
            "Run 7/10...\n"
          ]
        },
        {
          "output_type": "stream",
          "name": "stderr",
          "text": [
            "100%|██████████| 500/500 [01:37<00:00,  5.13it/s]\n"
          ]
        },
        {
          "output_type": "stream",
          "name": "stdout",
          "text": [
            "Best train acc: 0.8875739574432373 Test acc: 0.8421052694320679\n",
            "Run 8/10...\n"
          ]
        },
        {
          "output_type": "stream",
          "name": "stderr",
          "text": [
            "100%|██████████| 500/500 [01:36<00:00,  5.18it/s]\n"
          ]
        },
        {
          "output_type": "stream",
          "name": "stdout",
          "text": [
            "Best train acc: 0.9053254723548889 Test acc: 0.8421052694320679\n",
            "Run 9/10...\n"
          ]
        },
        {
          "output_type": "stream",
          "name": "stderr",
          "text": [
            "100%|██████████| 500/500 [01:37<00:00,  5.12it/s]\n"
          ]
        },
        {
          "output_type": "stream",
          "name": "stdout",
          "text": [
            "Best train acc: 0.9053254723548889 Test acc: 0.7894737124443054\n",
            "Run 10/10...\n"
          ]
        },
        {
          "output_type": "stream",
          "name": "stderr",
          "text": [
            "100%|██████████| 500/500 [01:36<00:00,  5.18it/s]"
          ]
        },
        {
          "output_type": "stream",
          "name": "stdout",
          "text": [
            "Best train acc: 0.8888888955116272 Test acc: 1.0\n",
            "Train accuracy: 0.8983563542366028 +-  0.008943422299746128\n",
            "Test accuracy: 0.7947368443012237 +-  0.0863222094991247\n"
          ]
        },
        {
          "output_type": "stream",
          "name": "stderr",
          "text": [
            "\n"
          ]
        }
      ]
    },
    {
      "cell_type": "markdown",
      "source": [
        "### Virtual node"
      ],
      "metadata": {
        "id": "jyNJvULc4SYU"
      }
    },
    {
      "cell_type": "code",
      "source": [
        "params = {\n",
        "    'input_dim': 7,\n",
        "    'hidden_dim': 64,\n",
        "    'output_dim': 2,\n",
        "    'n_layers': 4,\n",
        "    'epochs': 500,\n",
        "    'model':GAT_Virtual,\n",
        "    'lr': 0.001,\n",
        "    'weight_decay': 0,\n",
        "    'max_patience': 5,\n",
        "    'dropout': 0.3,\n",
        "    'batch_size': 32\n",
        "}\n",
        "\n",
        "cross_val(A, X, Y, params, verbose=False)"
      ],
      "metadata": {
        "colab": {
          "base_uri": "https://localhost:8080/"
        },
        "id": "43LasVYEG70m",
        "outputId": "868962a4-eb5f-46fa-fe8c-7bebca4ccffa"
      },
      "execution_count": null,
      "outputs": [
        {
          "output_type": "stream",
          "name": "stdout",
          "text": [
            "Run 1/10...\n"
          ]
        },
        {
          "output_type": "stream",
          "name": "stderr",
          "text": [
            "100%|██████████| 500/500 [02:00<00:00,  4.14it/s]\n"
          ]
        },
        {
          "output_type": "stream",
          "name": "stdout",
          "text": [
            "Best train acc: 0.8994082808494568 Test acc: 0.6842105388641357\n",
            "Run 2/10...\n"
          ]
        },
        {
          "output_type": "stream",
          "name": "stderr",
          "text": [
            "100%|██████████| 500/500 [01:58<00:00,  4.20it/s]\n"
          ]
        },
        {
          "output_type": "stream",
          "name": "stdout",
          "text": [
            "Best train acc: 0.9053254723548889 Test acc: 0.8947368264198303\n",
            "Run 3/10...\n"
          ]
        },
        {
          "output_type": "stream",
          "name": "stderr",
          "text": [
            "100%|██████████| 500/500 [02:00<00:00,  4.16it/s]\n"
          ]
        },
        {
          "output_type": "stream",
          "name": "stdout",
          "text": [
            "Best train acc: 0.9349112510681152 Test acc: 0.7368420958518982\n",
            "Run 4/10...\n"
          ]
        },
        {
          "output_type": "stream",
          "name": "stderr",
          "text": [
            "100%|██████████| 500/500 [01:59<00:00,  4.18it/s]\n"
          ]
        },
        {
          "output_type": "stream",
          "name": "stdout",
          "text": [
            "Best train acc: 0.9053254723548889 Test acc: 0.7368420958518982\n",
            "Run 5/10...\n"
          ]
        },
        {
          "output_type": "stream",
          "name": "stderr",
          "text": [
            "100%|██████████| 500/500 [01:59<00:00,  4.17it/s]\n"
          ]
        },
        {
          "output_type": "stream",
          "name": "stdout",
          "text": [
            "Best train acc: 0.9053254723548889 Test acc: 0.7368420958518982\n",
            "Run 6/10...\n"
          ]
        },
        {
          "output_type": "stream",
          "name": "stderr",
          "text": [
            " 38%|███▊      | 190/500 [00:45<01:14,  4.19it/s]\n"
          ]
        },
        {
          "output_type": "stream",
          "name": "stdout",
          "text": [
            "Stopped early at epoch 191.\n",
            "Best train acc: 0.8757396340370178 Test acc: 0.6842105388641357\n",
            "Run 7/10...\n"
          ]
        },
        {
          "output_type": "stream",
          "name": "stderr",
          "text": [
            " 76%|███████▌  | 381/500 [01:30<00:28,  4.19it/s]\n"
          ]
        },
        {
          "output_type": "stream",
          "name": "stdout",
          "text": [
            "Stopped early at epoch 382.\n",
            "Best train acc: 0.9171597957611084 Test acc: 0.7894737124443054\n",
            "Run 8/10...\n"
          ]
        },
        {
          "output_type": "stream",
          "name": "stderr",
          "text": [
            "100%|██████████| 500/500 [01:58<00:00,  4.22it/s]\n"
          ]
        },
        {
          "output_type": "stream",
          "name": "stdout",
          "text": [
            "Best train acc: 0.9230769276618958 Test acc: 0.7894737124443054\n",
            "Run 9/10...\n"
          ]
        },
        {
          "output_type": "stream",
          "name": "stderr",
          "text": [
            "100%|██████████| 500/500 [01:58<00:00,  4.22it/s]\n"
          ]
        },
        {
          "output_type": "stream",
          "name": "stdout",
          "text": [
            "Best train acc: 0.9171597957611084 Test acc: 0.7894737124443054\n",
            "Run 10/10...\n"
          ]
        },
        {
          "output_type": "stream",
          "name": "stderr",
          "text": [
            "100%|██████████| 500/500 [01:57<00:00,  4.27it/s]"
          ]
        },
        {
          "output_type": "stream",
          "name": "stdout",
          "text": [
            "Best train acc: 0.9005848169326782 Test acc: 1.0\n",
            "Train accuracy: 0.9084016919136048 +-  0.01519444773241756\n",
            "Test accuracy: 0.7842105329036713 +-  0.09251787013694499\n"
          ]
        },
        {
          "output_type": "stream",
          "name": "stderr",
          "text": [
            "\n"
          ]
        }
      ]
    },
    {
      "cell_type": "markdown",
      "source": [
        "### Expander graph propagation"
      ],
      "metadata": {
        "id": "rP37YEGw4Wrx"
      }
    },
    {
      "cell_type": "code",
      "source": [
        "params = {\n",
        "    'input_dim': 7,\n",
        "    'hidden_dim': 64,\n",
        "    'output_dim': 2,\n",
        "    'n_layers': 4,\n",
        "    'epochs': 500,\n",
        "    'model':GAT_Expander,\n",
        "    'lr': 0.001,\n",
        "    'weight_decay': 0,\n",
        "    'max_patience': 5,\n",
        "    'dropout': 0.3,\n",
        "    'batch_size': 32\n",
        "}\n",
        "\n",
        "cross_val(A, X, Y, params, verbose=False)"
      ],
      "metadata": {
        "colab": {
          "base_uri": "https://localhost:8080/"
        },
        "id": "HXnYBmDgxHg8",
        "outputId": "f5b26106-e277-42de-b829-4987fa5bb679"
      },
      "execution_count": null,
      "outputs": [
        {
          "output_type": "stream",
          "name": "stdout",
          "text": [
            "Run 1/10...\n"
          ]
        },
        {
          "output_type": "stream",
          "name": "stderr",
          "text": [
            "100%|██████████| 500/500 [01:37<00:00,  5.14it/s]\n"
          ]
        },
        {
          "output_type": "stream",
          "name": "stdout",
          "text": [
            "Best train acc: 0.88165682554245 Test acc: 0.6842105388641357\n",
            "Run 2/10...\n"
          ]
        },
        {
          "output_type": "stream",
          "name": "stderr",
          "text": [
            "100%|██████████| 500/500 [01:36<00:00,  5.20it/s]\n"
          ]
        },
        {
          "output_type": "stream",
          "name": "stdout",
          "text": [
            "Best train acc: 0.8698225021362305 Test acc: 0.8421052694320679\n",
            "Run 3/10...\n"
          ]
        },
        {
          "output_type": "stream",
          "name": "stderr",
          "text": [
            "100%|██████████| 500/500 [01:36<00:00,  5.20it/s]\n"
          ]
        },
        {
          "output_type": "stream",
          "name": "stdout",
          "text": [
            "Best train acc: 0.8994082808494568 Test acc: 0.7368420958518982\n",
            "Run 4/10...\n"
          ]
        },
        {
          "output_type": "stream",
          "name": "stderr",
          "text": [
            "100%|██████████| 500/500 [01:37<00:00,  5.15it/s]\n"
          ]
        },
        {
          "output_type": "stream",
          "name": "stdout",
          "text": [
            "Best train acc: 0.8934911489486694 Test acc: 0.7368420958518982\n",
            "Run 5/10...\n"
          ]
        },
        {
          "output_type": "stream",
          "name": "stderr",
          "text": [
            "100%|██████████| 500/500 [01:36<00:00,  5.21it/s]\n"
          ]
        },
        {
          "output_type": "stream",
          "name": "stdout",
          "text": [
            "Best train acc: 0.88165682554245 Test acc: 0.7368420958518982\n",
            "Run 6/10...\n"
          ]
        },
        {
          "output_type": "stream",
          "name": "stderr",
          "text": [
            "100%|██████████| 500/500 [01:37<00:00,  5.13it/s]\n"
          ]
        },
        {
          "output_type": "stream",
          "name": "stdout",
          "text": [
            "Best train acc: 0.88165682554245 Test acc: 0.8947368264198303\n",
            "Run 7/10...\n"
          ]
        },
        {
          "output_type": "stream",
          "name": "stderr",
          "text": [
            "100%|██████████| 500/500 [01:36<00:00,  5.19it/s]\n"
          ]
        },
        {
          "output_type": "stream",
          "name": "stdout",
          "text": [
            "Best train acc: 0.8639053106307983 Test acc: 0.8947368264198303\n",
            "Run 8/10...\n"
          ]
        },
        {
          "output_type": "stream",
          "name": "stderr",
          "text": [
            "100%|██████████| 500/500 [01:36<00:00,  5.19it/s]\n"
          ]
        },
        {
          "output_type": "stream",
          "name": "stdout",
          "text": [
            "Best train acc: 0.8757396340370178 Test acc: 0.8421052694320679\n",
            "Run 9/10...\n"
          ]
        },
        {
          "output_type": "stream",
          "name": "stderr",
          "text": [
            "100%|██████████| 500/500 [01:38<00:00,  5.06it/s]\n"
          ]
        },
        {
          "output_type": "stream",
          "name": "stdout",
          "text": [
            "Best train acc: 0.8757396340370178 Test acc: 0.6842105388641357\n",
            "Run 10/10...\n"
          ]
        },
        {
          "output_type": "stream",
          "name": "stderr",
          "text": [
            "100%|██████████| 500/500 [01:36<00:00,  5.20it/s]"
          ]
        },
        {
          "output_type": "stream",
          "name": "stdout",
          "text": [
            "Best train acc: 0.8830409646034241 Test acc: 0.9411764740943909\n",
            "Train accuracy: 0.8806117951869965 +-  0.009855729984466282\n",
            "Test accuracy: 0.7993808031082154 +-  0.08955666584198103\n"
          ]
        },
        {
          "output_type": "stream",
          "name": "stderr",
          "text": [
            "\n"
          ]
        }
      ]
    },
    {
      "cell_type": "markdown",
      "source": [
        "### All FA"
      ],
      "metadata": {
        "id": "YWg18yB-4bjR"
      }
    },
    {
      "cell_type": "code",
      "source": [
        "params = {\n",
        "    'input_dim': 7,\n",
        "    'hidden_dim': 64,\n",
        "    'output_dim': 2,\n",
        "    'n_layers': 4,\n",
        "    'epochs': 500,\n",
        "    'model':GAT_AllFA,\n",
        "    'lr': 0.001,\n",
        "    'weight_decay': 0,\n",
        "    'max_patience': 5,\n",
        "    'dropout': 0.3,\n",
        "    'batch_size': 32\n",
        "}\n",
        "\n",
        "cross_val(A, X, Y, params, verbose=False)\n"
      ],
      "metadata": {
        "colab": {
          "base_uri": "https://localhost:8080/"
        },
        "id": "Lrpc25ItA_Ma",
        "outputId": "82957802-5a3b-4ad2-9999-be7e1b87e0a1"
      },
      "execution_count": null,
      "outputs": [
        {
          "output_type": "stream",
          "name": "stdout",
          "text": [
            "Run 1/10...\n"
          ]
        },
        {
          "output_type": "stream",
          "name": "stderr",
          "text": [
            "100%|██████████| 500/500 [01:36<00:00,  5.18it/s]\n"
          ]
        },
        {
          "output_type": "stream",
          "name": "stdout",
          "text": [
            "Best train acc: 0.9053254723548889 Test acc: 0.7368420958518982\n",
            "Run 2/10...\n"
          ]
        },
        {
          "output_type": "stream",
          "name": "stderr",
          "text": [
            "100%|██████████| 500/500 [01:36<00:00,  5.20it/s]\n"
          ]
        },
        {
          "output_type": "stream",
          "name": "stdout",
          "text": [
            "Best train acc: 0.88165682554245 Test acc: 0.8947368264198303\n",
            "Run 3/10...\n"
          ]
        },
        {
          "output_type": "stream",
          "name": "stderr",
          "text": [
            "100%|██████████| 500/500 [01:34<00:00,  5.27it/s]\n"
          ]
        },
        {
          "output_type": "stream",
          "name": "stdout",
          "text": [
            "Best train acc: 0.9112426042556763 Test acc: 0.7368420958518982\n",
            "Run 4/10...\n"
          ]
        },
        {
          "output_type": "stream",
          "name": "stderr",
          "text": [
            "100%|██████████| 500/500 [01:35<00:00,  5.22it/s]\n"
          ]
        },
        {
          "output_type": "stream",
          "name": "stdout",
          "text": [
            "Best train acc: 0.8934911489486694 Test acc: 0.7368420958518982\n",
            "Run 5/10...\n"
          ]
        },
        {
          "output_type": "stream",
          "name": "stderr",
          "text": [
            "100%|██████████| 500/500 [01:35<00:00,  5.23it/s]\n"
          ]
        },
        {
          "output_type": "stream",
          "name": "stdout",
          "text": [
            "Best train acc: 0.8994082808494568 Test acc: 0.7368420958518982\n",
            "Run 6/10...\n"
          ]
        },
        {
          "output_type": "stream",
          "name": "stderr",
          "text": [
            " 85%|████████▍ | 423/500 [01:20<00:14,  5.25it/s]\n"
          ]
        },
        {
          "output_type": "stream",
          "name": "stdout",
          "text": [
            "Stopped early at epoch 424.\n",
            "Best train acc: 0.8994082808494568 Test acc: 0.7368420958518982\n",
            "Run 7/10...\n"
          ]
        },
        {
          "output_type": "stream",
          "name": "stderr",
          "text": [
            "100%|██████████| 500/500 [01:35<00:00,  5.23it/s]\n"
          ]
        },
        {
          "output_type": "stream",
          "name": "stdout",
          "text": [
            "Best train acc: 0.8934911489486694 Test acc: 0.8947368264198303\n",
            "Run 8/10...\n"
          ]
        },
        {
          "output_type": "stream",
          "name": "stderr",
          "text": [
            "100%|██████████| 500/500 [01:34<00:00,  5.27it/s]\n"
          ]
        },
        {
          "output_type": "stream",
          "name": "stdout",
          "text": [
            "Best train acc: 0.8934911489486694 Test acc: 0.8421052694320679\n",
            "Run 9/10...\n"
          ]
        },
        {
          "output_type": "stream",
          "name": "stderr",
          "text": [
            "100%|██████████| 500/500 [01:36<00:00,  5.19it/s]\n"
          ]
        },
        {
          "output_type": "stream",
          "name": "stdout",
          "text": [
            "Best train acc: 0.8934911489486694 Test acc: 0.6842105388641357\n",
            "Run 10/10...\n"
          ]
        },
        {
          "output_type": "stream",
          "name": "stderr",
          "text": [
            "100%|██████████| 500/500 [01:35<00:00,  5.24it/s]"
          ]
        },
        {
          "output_type": "stream",
          "name": "stdout",
          "text": [
            "Best train acc: 0.9005848169326782 Test acc: 0.9411764740943909\n",
            "Train accuracy: 0.8971590876579285 +-  0.007622492165058771\n",
            "Test accuracy: 0.7941176414489746 +-  0.08524058029054181\n"
          ]
        },
        {
          "output_type": "stream",
          "name": "stderr",
          "text": [
            "\n"
          ]
        }
      ]
    },
    {
      "cell_type": "markdown",
      "source": [
        "## ENZYMES"
      ],
      "metadata": {
        "id": "0tERSC7bPDvj"
      }
    },
    {
      "cell_type": "code",
      "source": [
        "A, X, Y = get_dataset(dataset_name='ENZYMES')"
      ],
      "metadata": {
        "colab": {
          "base_uri": "https://localhost:8080/"
        },
        "id": "F-8ENZhYPbDi",
        "outputId": "04fca90e-7691-4fdd-c44a-9ac1d1bb2694"
      },
      "execution_count": 15,
      "outputs": [
        {
          "output_type": "stream",
          "name": "stderr",
          "text": [
            "Downloading https://www.chrsmrrs.com/graphkerneldatasets/ENZYMES.zip\n",
            "Extracting data/TUDataset/ENZYMES/ENZYMES.zip\n",
            "Processing...\n",
            "Done!\n"
          ]
        }
      ]
    },
    {
      "cell_type": "code",
      "source": [
        "# Shuffle before cross-val\n",
        "ds = list(zip(A, X, Y))\n",
        "random.shuffle(ds)\n",
        "A, X, Y = zip(*ds)"
      ],
      "metadata": {
        "id": "soL43QKPPbDp"
      },
      "execution_count": 16,
      "outputs": []
    },
    {
      "cell_type": "markdown",
      "source": [
        "### GAT"
      ],
      "metadata": {
        "id": "XW7pUYaASOiR"
      }
    },
    {
      "cell_type": "code",
      "source": [
        "params = {\n",
        "    'input_dim': 3,\n",
        "    'hidden_dim': 64,\n",
        "    'output_dim': 6,\n",
        "    'n_layers': 4,\n",
        "    'epochs': 500,\n",
        "    'model': GAT,\n",
        "    'lr': 0.001,\n",
        "    'weight_decay': 0,\n",
        "    'max_patience': 5,\n",
        "    'dropout': 0.2,\n",
        "    'batch_size': 32\n",
        "}\n",
        "\n",
        "cross_val(A, X, Y, params, verbose=False)"
      ],
      "metadata": {
        "colab": {
          "base_uri": "https://localhost:8080/"
        },
        "outputId": "5b2551a2-0d56-42d4-b674-3b458c2863b1",
        "id": "YToJtjdKPzKK"
      },
      "execution_count": 33,
      "outputs": [
        {
          "output_type": "stream",
          "name": "stdout",
          "text": [
            "Run 1/10...\n"
          ]
        },
        {
          "output_type": "stream",
          "name": "stderr",
          "text": [
            " 56%|█████▌    | 279/500 [02:26<01:55,  1.91it/s]\n"
          ]
        },
        {
          "output_type": "stream",
          "name": "stdout",
          "text": [
            "Stopped early at epoch 280.\n",
            "Best train acc: 0.4025973975658417 Test acc: 0.2950819432735443\n",
            "Run 2/10...\n"
          ]
        },
        {
          "output_type": "stream",
          "name": "stderr",
          "text": [
            "100%|██████████| 500/500 [04:21<00:00,  1.91it/s]\n"
          ]
        },
        {
          "output_type": "stream",
          "name": "stdout",
          "text": [
            "Best train acc: 0.4582560360431671 Test acc: 0.3442622721195221\n",
            "Run 3/10...\n"
          ]
        },
        {
          "output_type": "stream",
          "name": "stderr",
          "text": [
            "100%|██████████| 500/500 [04:20<00:00,  1.92it/s]\n"
          ]
        },
        {
          "output_type": "stream",
          "name": "stdout",
          "text": [
            "Best train acc: 0.43784788250923157 Test acc: 0.37704914808273315\n",
            "Run 4/10...\n"
          ]
        },
        {
          "output_type": "stream",
          "name": "stderr",
          "text": [
            "100%|██████████| 500/500 [04:20<00:00,  1.92it/s]\n"
          ]
        },
        {
          "output_type": "stream",
          "name": "stdout",
          "text": [
            "Best train acc: 0.44341373443603516 Test acc: 0.2950819432735443\n",
            "Run 5/10...\n"
          ]
        },
        {
          "output_type": "stream",
          "name": "stderr",
          "text": [
            "100%|██████████| 500/500 [04:19<00:00,  1.92it/s]\n"
          ]
        },
        {
          "output_type": "stream",
          "name": "stdout",
          "text": [
            "Best train acc: 0.44155845046043396 Test acc: 0.2786885201931\n",
            "Run 6/10...\n"
          ]
        },
        {
          "output_type": "stream",
          "name": "stderr",
          "text": [
            "100%|██████████| 500/500 [04:19<00:00,  1.93it/s]\n"
          ]
        },
        {
          "output_type": "stream",
          "name": "stdout",
          "text": [
            "Best train acc: 0.41001856327056885 Test acc: 0.4098360538482666\n",
            "Run 7/10...\n"
          ]
        },
        {
          "output_type": "stream",
          "name": "stderr",
          "text": [
            " 45%|████▍     | 224/500 [01:56<02:24,  1.92it/s]\n"
          ]
        },
        {
          "output_type": "stream",
          "name": "stdout",
          "text": [
            "Stopped early at epoch 225.\n",
            "Best train acc: 0.38033396005630493 Test acc: 0.21311473846435547\n",
            "Run 8/10...\n"
          ]
        },
        {
          "output_type": "stream",
          "name": "stderr",
          "text": [
            "100%|██████████| 500/500 [04:20<00:00,  1.92it/s]\n"
          ]
        },
        {
          "output_type": "stream",
          "name": "stdout",
          "text": [
            "Best train acc: 0.45083487033843994 Test acc: 0.32786881923675537\n",
            "Run 9/10...\n"
          ]
        },
        {
          "output_type": "stream",
          "name": "stderr",
          "text": [
            "100%|██████████| 500/500 [04:22<00:00,  1.91it/s]\n"
          ]
        },
        {
          "output_type": "stream",
          "name": "stdout",
          "text": [
            "Best train acc: 0.4322820007801056 Test acc: 0.3606557250022888\n",
            "Run 10/10...\n"
          ]
        },
        {
          "output_type": "stream",
          "name": "stderr",
          "text": [
            "100%|██████████| 500/500 [04:24<00:00,  1.89it/s]"
          ]
        },
        {
          "output_type": "stream",
          "name": "stdout",
          "text": [
            "Best train acc: 0.44990891218185425 Test acc: 0.37254902720451355\n",
            "Train accuracy: 0.4307051807641983 +-  0.023708829945163035\n",
            "Test accuracy: 0.32741881906986237 +-  0.054965911348480716\n"
          ]
        },
        {
          "output_type": "stream",
          "name": "stderr",
          "text": [
            "\n"
          ]
        }
      ]
    },
    {
      "cell_type": "markdown",
      "source": [
        "### +FA"
      ],
      "metadata": {
        "id": "IK4-0f5ZSTIg"
      }
    },
    {
      "cell_type": "code",
      "source": [
        "params = {\n",
        "    'input_dim': 3,\n",
        "    'hidden_dim': 64,\n",
        "    'output_dim': 6,\n",
        "    'n_layers': 4,\n",
        "    'epochs': 500,\n",
        "    'model': GAT_FA,\n",
        "    'lr': 0.001,\n",
        "    'weight_decay': 0,\n",
        "    'max_patience': 5,\n",
        "    'dropout': 0.2,\n",
        "    'batch_size': 32\n",
        "}\n",
        "\n",
        "cross_val(A, X, Y, params, verbose=False)"
      ],
      "metadata": {
        "colab": {
          "base_uri": "https://localhost:8080/"
        },
        "outputId": "faeb84c3-c65b-4ce1-a923-c6a7fae1a0a0",
        "id": "CKauMTpFPzKS"
      },
      "execution_count": 31,
      "outputs": [
        {
          "output_type": "stream",
          "name": "stdout",
          "text": [
            "Run 1/10...\n"
          ]
        },
        {
          "output_type": "stream",
          "name": "stderr",
          "text": [
            " 53%|█████▎    | 267/500 [02:23<02:05,  1.85it/s]\n"
          ]
        },
        {
          "output_type": "stream",
          "name": "stdout",
          "text": [
            "Stopped early at epoch 268.\n",
            "Best train acc: 0.36920222640037537 Test acc: 0.2950819432735443\n",
            "Run 2/10...\n"
          ]
        },
        {
          "output_type": "stream",
          "name": "stderr",
          "text": [
            "100%|██████████| 500/500 [04:27<00:00,  1.87it/s]\n"
          ]
        },
        {
          "output_type": "stream",
          "name": "stdout",
          "text": [
            "Best train acc: 0.44897958636283875 Test acc: 0.2786885201931\n",
            "Run 3/10...\n"
          ]
        },
        {
          "output_type": "stream",
          "name": "stderr",
          "text": [
            "100%|██████████| 500/500 [04:29<00:00,  1.86it/s]\n"
          ]
        },
        {
          "output_type": "stream",
          "name": "stdout",
          "text": [
            "Best train acc: 0.43784788250923157 Test acc: 0.3934426009654999\n",
            "Run 4/10...\n"
          ]
        },
        {
          "output_type": "stream",
          "name": "stderr",
          "text": [
            "100%|██████████| 500/500 [04:26<00:00,  1.88it/s]\n"
          ]
        },
        {
          "output_type": "stream",
          "name": "stdout",
          "text": [
            "Best train acc: 0.44897958636283875 Test acc: 0.32786881923675537\n",
            "Run 5/10...\n"
          ]
        },
        {
          "output_type": "stream",
          "name": "stderr",
          "text": [
            "100%|██████████| 500/500 [04:26<00:00,  1.88it/s]\n"
          ]
        },
        {
          "output_type": "stream",
          "name": "stdout",
          "text": [
            "Best train acc: 0.44526901841163635 Test acc: 0.24590162932872772\n",
            "Run 6/10...\n"
          ]
        },
        {
          "output_type": "stream",
          "name": "stderr",
          "text": [
            " 66%|██████▌   | 331/500 [02:55<01:29,  1.88it/s]\n"
          ]
        },
        {
          "output_type": "stream",
          "name": "stdout",
          "text": [
            "Stopped early at epoch 332.\n",
            "Best train acc: 0.3562152087688446 Test acc: 0.32786881923675537\n",
            "Run 7/10...\n"
          ]
        },
        {
          "output_type": "stream",
          "name": "stderr",
          "text": [
            "100%|██████████| 500/500 [04:25<00:00,  1.88it/s]\n"
          ]
        },
        {
          "output_type": "stream",
          "name": "stdout",
          "text": [
            "Best train acc: 0.43970316648483276 Test acc: 0.21311473846435547\n",
            "Run 8/10...\n"
          ]
        },
        {
          "output_type": "stream",
          "name": "stderr",
          "text": [
            "100%|██████████| 500/500 [04:26<00:00,  1.88it/s]\n"
          ]
        },
        {
          "output_type": "stream",
          "name": "stdout",
          "text": [
            "Best train acc: 0.4341372847557068 Test acc: 0.2950819432735443\n",
            "Run 9/10...\n"
          ]
        },
        {
          "output_type": "stream",
          "name": "stderr",
          "text": [
            "100%|██████████| 500/500 [04:25<00:00,  1.89it/s]\n"
          ]
        },
        {
          "output_type": "stream",
          "name": "stdout",
          "text": [
            "Best train acc: 0.4582560360431671 Test acc: 0.44262292981147766\n",
            "Run 10/10...\n"
          ]
        },
        {
          "output_type": "stream",
          "name": "stderr",
          "text": [
            " 51%|█████     | 253/500 [02:16<02:13,  1.85it/s]"
          ]
        },
        {
          "output_type": "stream",
          "name": "stdout",
          "text": [
            "Stopped early at epoch 254.\n",
            "Best train acc: 0.375227689743042 Test acc: 0.3333333432674408\n",
            "Train accuracy: 0.4213817685842514 +-  0.03650025377065803\n",
            "Test accuracy: 0.3153005287051201 +-  0.06354089081703616\n"
          ]
        },
        {
          "output_type": "stream",
          "name": "stderr",
          "text": [
            "\n"
          ]
        }
      ]
    },
    {
      "cell_type": "markdown",
      "source": [
        "### Virtual node"
      ],
      "metadata": {
        "id": "FnTF5NL5SYGv"
      }
    },
    {
      "cell_type": "code",
      "source": [
        "params = {\n",
        "    'input_dim': 3,\n",
        "    'hidden_dim': 64,\n",
        "    'output_dim': 6,\n",
        "    'n_layers': 4,\n",
        "    'epochs': 500,\n",
        "    'model': GAT_Virtual,\n",
        "    'lr': 0.001,\n",
        "    'weight_decay': 0,\n",
        "    'max_patience': 5,\n",
        "    'dropout': 0.3,\n",
        "    'batch_size': 32\n",
        "}\n",
        "\n",
        "cross_val(A, X, Y, params, verbose=False)"
      ],
      "metadata": {
        "colab": {
          "base_uri": "https://localhost:8080/"
        },
        "id": "r0u48-ffZPuR",
        "outputId": "38bb1c24-e68c-46fb-c424-6d8116c1bde1"
      },
      "execution_count": null,
      "outputs": [
        {
          "output_type": "stream",
          "name": "stdout",
          "text": [
            "Run 1/10...\n"
          ]
        },
        {
          "output_type": "stream",
          "name": "stderr",
          "text": [
            " 61%|██████    | 305/500 [04:01<02:34,  1.26it/s]\n"
          ]
        },
        {
          "output_type": "stream",
          "name": "stdout",
          "text": [
            "Stopped early at epoch 306.\n",
            "Best train acc: 0.7625231742858887 Test acc: 0.3606557250022888\n",
            "Run 2/10...\n"
          ]
        },
        {
          "output_type": "stream",
          "name": "stderr",
          "text": [
            " 51%|█████     | 254/500 [03:18<03:12,  1.28it/s]\n"
          ]
        },
        {
          "output_type": "stream",
          "name": "stdout",
          "text": [
            "Stopped early at epoch 255.\n",
            "Best train acc: 0.706864595413208 Test acc: 0.31147539615631104\n",
            "Run 3/10...\n"
          ]
        },
        {
          "output_type": "stream",
          "name": "stderr",
          "text": [
            " 55%|█████▌    | 276/500 [03:35<02:54,  1.28it/s]\n"
          ]
        },
        {
          "output_type": "stream",
          "name": "stdout",
          "text": [
            "Stopped early at epoch 277.\n",
            "Best train acc: 0.706864595413208 Test acc: 0.44262292981147766\n",
            "Run 4/10...\n"
          ]
        },
        {
          "output_type": "stream",
          "name": "stderr",
          "text": [
            " 24%|██▍       | 119/500 [01:33<04:59,  1.27it/s]\n"
          ]
        },
        {
          "output_type": "stream",
          "name": "stdout",
          "text": [
            "Stopped early at epoch 120.\n",
            "Best train acc: 0.5157699584960938 Test acc: 0.4590163826942444\n",
            "Run 5/10...\n"
          ]
        },
        {
          "output_type": "stream",
          "name": "stderr",
          "text": [
            " 50%|█████     | 252/500 [03:15<03:12,  1.29it/s]\n"
          ]
        },
        {
          "output_type": "stream",
          "name": "stdout",
          "text": [
            "Stopped early at epoch 253.\n",
            "Best train acc: 0.7365491986274719 Test acc: 0.42622947692871094\n",
            "Run 6/10...\n"
          ]
        },
        {
          "output_type": "stream",
          "name": "stderr",
          "text": [
            " 42%|████▏     | 209/500 [02:41<03:45,  1.29it/s]\n"
          ]
        },
        {
          "output_type": "stream",
          "name": "stdout",
          "text": [
            "Stopped early at epoch 210.\n",
            "Best train acc: 0.6122449040412903 Test acc: 0.3442622721195221\n",
            "Run 7/10...\n"
          ]
        },
        {
          "output_type": "stream",
          "name": "stderr",
          "text": [
            " 45%|████▌     | 227/500 [02:56<03:31,  1.29it/s]\n"
          ]
        },
        {
          "output_type": "stream",
          "name": "stdout",
          "text": [
            "Stopped early at epoch 228.\n",
            "Best train acc: 0.6883116960525513 Test acc: 0.4754098057746887\n",
            "Run 8/10...\n"
          ]
        },
        {
          "output_type": "stream",
          "name": "stderr",
          "text": [
            " 47%|████▋     | 236/500 [03:03<03:24,  1.29it/s]\n"
          ]
        },
        {
          "output_type": "stream",
          "name": "stdout",
          "text": [
            "Stopped early at epoch 237.\n",
            "Best train acc: 0.6474953889846802 Test acc: 0.44262292981147766\n",
            "Run 9/10...\n"
          ]
        },
        {
          "output_type": "stream",
          "name": "stderr",
          "text": [
            " 76%|███████▌  | 380/500 [04:55<01:33,  1.29it/s]\n"
          ]
        },
        {
          "output_type": "stream",
          "name": "stdout",
          "text": [
            "Stopped early at epoch 381.\n",
            "Best train acc: 0.85899817943573 Test acc: 0.42622947692871094\n",
            "Run 10/10...\n"
          ]
        },
        {
          "output_type": "stream",
          "name": "stderr",
          "text": [
            "100%|██████████| 500/500 [06:34<00:00,  1.27it/s]"
          ]
        },
        {
          "output_type": "stream",
          "name": "stdout",
          "text": [
            "Best train acc: 0.8269581198692322 Test acc: 0.4705882668495178\n",
            "Train accuracy: 0.7062579810619354 +-  0.0953317440649498\n",
            "Test accuracy: 0.41591126620769503 +-  0.05396412021721359\n"
          ]
        },
        {
          "output_type": "stream",
          "name": "stderr",
          "text": [
            "\n"
          ]
        }
      ]
    },
    {
      "cell_type": "markdown",
      "source": [
        "### Expander graph propagation"
      ],
      "metadata": {
        "id": "53ITSmVsSafl"
      }
    },
    {
      "cell_type": "code",
      "source": [
        "params = {\n",
        "    'input_dim': 3,\n",
        "    'hidden_dim': 64,\n",
        "    'output_dim': 6,\n",
        "    'n_layers': 4,\n",
        "    'epochs': 500,\n",
        "    'model': GAT_Expander,\n",
        "    'lr': 0.001,\n",
        "    'weight_decay': 0,\n",
        "    'max_patience': 5,\n",
        "    'dropout': 0.3,\n",
        "    'batch_size': 32\n",
        "}\n",
        "\n",
        "cross_val(A, X, Y, params, verbose=False)"
      ],
      "metadata": {
        "colab": {
          "base_uri": "https://localhost:8080/"
        },
        "id": "cGdFDaaASebC",
        "outputId": "5ae2082d-fd48-4b57-b8c5-e11112dbbec0"
      },
      "execution_count": 32,
      "outputs": [
        {
          "output_type": "stream",
          "name": "stdout",
          "text": [
            "Run 1/10...\n"
          ]
        },
        {
          "output_type": "stream",
          "name": "stderr",
          "text": [
            " 90%|████████▉ | 449/500 [03:57<00:26,  1.89it/s]\n"
          ]
        },
        {
          "output_type": "stream",
          "name": "stdout",
          "text": [
            "Stopped early at epoch 450.\n",
            "Best train acc: 0.5194805264472961 Test acc: 0.3606557250022888\n",
            "Run 2/10...\n"
          ]
        },
        {
          "output_type": "stream",
          "name": "stderr",
          "text": [
            "100%|██████████| 500/500 [04:22<00:00,  1.90it/s]\n"
          ]
        },
        {
          "output_type": "stream",
          "name": "stdout",
          "text": [
            "Best train acc: 0.4953617751598358 Test acc: 0.31147539615631104\n",
            "Run 3/10...\n"
          ]
        },
        {
          "output_type": "stream",
          "name": "stderr",
          "text": [
            "100%|██████████| 500/500 [04:21<00:00,  1.91it/s]\n"
          ]
        },
        {
          "output_type": "stream",
          "name": "stdout",
          "text": [
            "Best train acc: 0.48051947355270386 Test acc: 0.49180325865745544\n",
            "Run 4/10...\n"
          ]
        },
        {
          "output_type": "stream",
          "name": "stderr",
          "text": [
            " 61%|██████    | 306/500 [02:41<01:42,  1.90it/s]\n"
          ]
        },
        {
          "output_type": "stream",
          "name": "stdout",
          "text": [
            "Stopped early at epoch 307.\n",
            "Best train acc: 0.4304267168045044 Test acc: 0.37704914808273315\n",
            "Run 5/10...\n"
          ]
        },
        {
          "output_type": "stream",
          "name": "stderr",
          "text": [
            "100%|██████████| 500/500 [04:24<00:00,  1.89it/s]\n"
          ]
        },
        {
          "output_type": "stream",
          "name": "stdout",
          "text": [
            "Best train acc: 0.5046381950378418 Test acc: 0.37704914808273315\n",
            "Run 6/10...\n"
          ]
        },
        {
          "output_type": "stream",
          "name": "stderr",
          "text": [
            " 51%|█████     | 256/500 [02:18<02:12,  1.85it/s]\n"
          ]
        },
        {
          "output_type": "stream",
          "name": "stdout",
          "text": [
            "Stopped early at epoch 257.\n",
            "Best train acc: 0.41929498314857483 Test acc: 0.44262292981147766\n",
            "Run 7/10...\n"
          ]
        },
        {
          "output_type": "stream",
          "name": "stderr",
          "text": [
            "100%|██████████| 500/500 [04:21<00:00,  1.91it/s]\n"
          ]
        },
        {
          "output_type": "stream",
          "name": "stdout",
          "text": [
            "Best train acc: 0.5120593905448914 Test acc: 0.21311473846435547\n",
            "Run 8/10...\n"
          ]
        },
        {
          "output_type": "stream",
          "name": "stderr",
          "text": [
            "100%|██████████| 500/500 [04:23<00:00,  1.90it/s]\n"
          ]
        },
        {
          "output_type": "stream",
          "name": "stdout",
          "text": [
            "Best train acc: 0.4730983376502991 Test acc: 0.31147539615631104\n",
            "Run 9/10...\n"
          ]
        },
        {
          "output_type": "stream",
          "name": "stderr",
          "text": [
            "100%|██████████| 500/500 [04:23<00:00,  1.90it/s]\n"
          ]
        },
        {
          "output_type": "stream",
          "name": "stdout",
          "text": [
            "Best train acc: 0.48608535528182983 Test acc: 0.2950819432735443\n",
            "Run 10/10...\n"
          ]
        },
        {
          "output_type": "stream",
          "name": "stderr",
          "text": [
            "100%|██████████| 500/500 [04:26<00:00,  1.87it/s]"
          ]
        },
        {
          "output_type": "stream",
          "name": "stdout",
          "text": [
            "Best train acc: 0.46265938878059387 Test acc: 0.3921568691730499\n",
            "Train accuracy: 0.4783624142408371 +-  0.031513433691532276\n",
            "Test accuracy: 0.357248455286026 +-  0.07499179098616035\n"
          ]
        },
        {
          "output_type": "stream",
          "name": "stderr",
          "text": [
            "\n"
          ]
        }
      ]
    },
    {
      "cell_type": "markdown",
      "source": [
        "### All FA"
      ],
      "metadata": {
        "id": "NTwS6UWsSkCW"
      }
    },
    {
      "cell_type": "code",
      "source": [
        "params = {\n",
        "    'input_dim': 3,\n",
        "    'hidden_dim': 64,\n",
        "    'output_dim': 6,\n",
        "    'n_layers': 4,\n",
        "    'epochs': 500,\n",
        "    'model': GAT_AllFA,\n",
        "    'lr': 0.001,\n",
        "    'weight_decay': 0,\n",
        "    'max_patience': 5,\n",
        "    'dropout': 0.3,\n",
        "    'batch_size': 32\n",
        "}\n",
        "\n",
        "cross_val(A, X, Y, params, verbose=False)"
      ],
      "metadata": {
        "colab": {
          "base_uri": "https://localhost:8080/"
        },
        "id": "oxPva67FsFO_",
        "outputId": "d9d91a9c-fa57-4a2b-e302-0da72928a748"
      },
      "execution_count": null,
      "outputs": [
        {
          "output_type": "stream",
          "name": "stdout",
          "text": [
            "Run 1/10...\n"
          ]
        },
        {
          "output_type": "stream",
          "name": "stderr",
          "text": [
            "100%|██████████| 500/500 [05:18<00:00,  1.57it/s]\n"
          ]
        },
        {
          "output_type": "stream",
          "name": "stdout",
          "text": [
            "Best train acc: 0.38033396005630493 Test acc: 0.19672130048274994\n",
            "Run 2/10...\n"
          ]
        },
        {
          "output_type": "stream",
          "name": "stderr",
          "text": [
            "100%|██████████| 500/500 [05:14<00:00,  1.59it/s]\n"
          ]
        },
        {
          "output_type": "stream",
          "name": "stdout",
          "text": [
            "Best train acc: 0.3636363744735718 Test acc: 0.2295081913471222\n",
            "Run 3/10...\n"
          ]
        },
        {
          "output_type": "stream",
          "name": "stderr",
          "text": [
            "100%|██████████| 500/500 [05:15<00:00,  1.58it/s]\n"
          ]
        },
        {
          "output_type": "stream",
          "name": "stdout",
          "text": [
            "Best train acc: 0.37847867608070374 Test acc: 0.19672130048274994\n",
            "Run 4/10...\n"
          ]
        },
        {
          "output_type": "stream",
          "name": "stderr",
          "text": [
            "100%|██████████| 500/500 [05:13<00:00,  1.59it/s]\n"
          ]
        },
        {
          "output_type": "stream",
          "name": "stdout",
          "text": [
            "Best train acc: 0.3858998119831085 Test acc: 0.3606557250022888\n",
            "Run 5/10...\n"
          ]
        },
        {
          "output_type": "stream",
          "name": "stderr",
          "text": [
            "100%|██████████| 500/500 [05:13<00:00,  1.59it/s]\n"
          ]
        },
        {
          "output_type": "stream",
          "name": "stdout",
          "text": [
            "Best train acc: 0.36734694242477417 Test acc: 0.2950819432735443\n",
            "Run 6/10...\n"
          ]
        },
        {
          "output_type": "stream",
          "name": "stderr",
          "text": [
            "100%|██████████| 500/500 [05:14<00:00,  1.59it/s]\n"
          ]
        },
        {
          "output_type": "stream",
          "name": "stdout",
          "text": [
            "Best train acc: 0.36920222640037537 Test acc: 0.2950819432735443\n",
            "Run 7/10...\n"
          ]
        },
        {
          "output_type": "stream",
          "name": "stderr",
          "text": [
            "100%|██████████| 500/500 [05:13<00:00,  1.59it/s]\n"
          ]
        },
        {
          "output_type": "stream",
          "name": "stdout",
          "text": [
            "Best train acc: 0.37476807832717896 Test acc: 0.19672130048274994\n",
            "Run 8/10...\n"
          ]
        },
        {
          "output_type": "stream",
          "name": "stderr",
          "text": [
            "100%|██████████| 500/500 [05:12<00:00,  1.60it/s]\n"
          ]
        },
        {
          "output_type": "stream",
          "name": "stdout",
          "text": [
            "Best train acc: 0.37105751037597656 Test acc: 0.31147539615631104\n",
            "Run 9/10...\n"
          ]
        },
        {
          "output_type": "stream",
          "name": "stderr",
          "text": [
            "100%|██████████| 500/500 [05:14<00:00,  1.59it/s]\n"
          ]
        },
        {
          "output_type": "stream",
          "name": "stdout",
          "text": [
            "Best train acc: 0.38218924403190613 Test acc: 0.37704914808273315\n",
            "Run 10/10...\n"
          ]
        },
        {
          "output_type": "stream",
          "name": "stderr",
          "text": [
            "100%|██████████| 500/500 [05:17<00:00,  1.57it/s]"
          ]
        },
        {
          "output_type": "stream",
          "name": "stdout",
          "text": [
            "Best train acc: 0.3570127487182617 Test acc: 0.4117647111415863\n",
            "Train accuracy: 0.3729925572872162 +-  0.008551016667978207\n",
            "Test accuracy: 0.28707809597253797 +-  0.07588537837119338\n"
          ]
        },
        {
          "output_type": "stream",
          "name": "stderr",
          "text": [
            "\n"
          ]
        }
      ]
    }
  ],
  "metadata": {
    "accelerator": "GPU",
    "colab": {
      "provenance": [],
      "collapsed_sections": [
        "EPInxr1DCNWE",
        "l3nPq4OfCnLr",
        "bH8k75WsjL6N"
      ],
      "toc_visible": true
    },
    "gpuClass": "standard",
    "kernelspec": {
      "display_name": "Python 3",
      "name": "python3"
    },
    "language_info": {
      "name": "python"
    }
  },
  "nbformat": 4,
  "nbformat_minor": 0
}